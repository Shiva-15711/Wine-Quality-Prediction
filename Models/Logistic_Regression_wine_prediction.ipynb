{
  "nbformat": 4,
  "nbformat_minor": 0,
  "metadata": {
    "colab": {
      "name": "Logistic_Regression_wine prediction.ipynb",
      "provenance": [],
      "collapsed_sections": []
    },
    "kernelspec": {
      "name": "python3",
      "display_name": "Python 3"
    },
    "language_info": {
      "name": "python"
    }
  },
  "cells": [
    {
      "cell_type": "markdown",
      "metadata": {
        "id": "X8t8B21co40V"
      },
      "source": [
        "Mount Drive"
      ]
    },
    {
      "cell_type": "code",
      "metadata": {
        "colab": {
          "base_uri": "https://localhost:8080/"
        },
        "id": "t03VGGlspB2B",
        "outputId": "5d452ea1-88a1-4f32-b559-535f30f1ffeb"
      },
      "source": [
        "from google.colab import drive\n",
        "drive.mount('/content/drive')"
      ],
      "execution_count": 1,
      "outputs": [
        {
          "output_type": "stream",
          "name": "stdout",
          "text": [
            "Mounted at /content/drive\n"
          ]
        }
      ]
    },
    {
      "cell_type": "markdown",
      "metadata": {
        "id": "cdG8dwIqpdJR"
      },
      "source": [
        "Import Libraries"
      ]
    },
    {
      "cell_type": "code",
      "metadata": {
        "id": "e33CF_bkpepD"
      },
      "source": [
        "import numpy as np\n",
        "import pandas as pd"
      ],
      "execution_count": 2,
      "outputs": []
    },
    {
      "cell_type": "markdown",
      "metadata": {
        "id": "lrdl07jvpfPk"
      },
      "source": [
        "Load Data"
      ]
    },
    {
      "cell_type": "code",
      "metadata": {
        "colab": {
          "base_uri": "https://localhost:8080/",
          "height": 206
        },
        "id": "ISckjXEVpgJP",
        "outputId": "cbde2a30-bc28-4801-bbc9-fb8573524183"
      },
      "source": [
        "data = pd.read_csv(\"/content/drive/MyDrive/AI_data/Winequality_dataset_final.csv\")\n",
        "data.head()"
      ],
      "execution_count": 3,
      "outputs": [
        {
          "output_type": "execute_result",
          "data": {
            "text/html": [
              "<div>\n",
              "<style scoped>\n",
              "    .dataframe tbody tr th:only-of-type {\n",
              "        vertical-align: middle;\n",
              "    }\n",
              "\n",
              "    .dataframe tbody tr th {\n",
              "        vertical-align: top;\n",
              "    }\n",
              "\n",
              "    .dataframe thead th {\n",
              "        text-align: right;\n",
              "    }\n",
              "</style>\n",
              "<table border=\"1\" class=\"dataframe\">\n",
              "  <thead>\n",
              "    <tr style=\"text-align: right;\">\n",
              "      <th></th>\n",
              "      <th>fixed acidity</th>\n",
              "      <th>volatile acidity</th>\n",
              "      <th>citric acid</th>\n",
              "      <th>residual sugar</th>\n",
              "      <th>chlorides</th>\n",
              "      <th>free sulfur dioxide</th>\n",
              "      <th>total sulfur dioxide</th>\n",
              "      <th>density</th>\n",
              "      <th>sulphates</th>\n",
              "      <th>alcohol</th>\n",
              "      <th>quality</th>\n",
              "    </tr>\n",
              "  </thead>\n",
              "  <tbody>\n",
              "    <tr>\n",
              "      <th>0</th>\n",
              "      <td>7.4</td>\n",
              "      <td>0.70</td>\n",
              "      <td>0.00</td>\n",
              "      <td>1.9</td>\n",
              "      <td>0.076</td>\n",
              "      <td>11.0</td>\n",
              "      <td>34.0</td>\n",
              "      <td>0.9978</td>\n",
              "      <td>0.56</td>\n",
              "      <td>9.4</td>\n",
              "      <td>0</td>\n",
              "    </tr>\n",
              "    <tr>\n",
              "      <th>1</th>\n",
              "      <td>7.8</td>\n",
              "      <td>0.88</td>\n",
              "      <td>0.00</td>\n",
              "      <td>2.6</td>\n",
              "      <td>0.098</td>\n",
              "      <td>25.0</td>\n",
              "      <td>67.0</td>\n",
              "      <td>0.9968</td>\n",
              "      <td>0.68</td>\n",
              "      <td>9.8</td>\n",
              "      <td>0</td>\n",
              "    </tr>\n",
              "    <tr>\n",
              "      <th>2</th>\n",
              "      <td>7.8</td>\n",
              "      <td>0.76</td>\n",
              "      <td>0.04</td>\n",
              "      <td>2.3</td>\n",
              "      <td>0.092</td>\n",
              "      <td>15.0</td>\n",
              "      <td>54.0</td>\n",
              "      <td>0.9970</td>\n",
              "      <td>0.65</td>\n",
              "      <td>9.8</td>\n",
              "      <td>0</td>\n",
              "    </tr>\n",
              "    <tr>\n",
              "      <th>3</th>\n",
              "      <td>11.2</td>\n",
              "      <td>0.28</td>\n",
              "      <td>0.56</td>\n",
              "      <td>1.9</td>\n",
              "      <td>0.075</td>\n",
              "      <td>17.0</td>\n",
              "      <td>60.0</td>\n",
              "      <td>0.9980</td>\n",
              "      <td>0.58</td>\n",
              "      <td>9.8</td>\n",
              "      <td>1</td>\n",
              "    </tr>\n",
              "    <tr>\n",
              "      <th>4</th>\n",
              "      <td>7.4</td>\n",
              "      <td>0.70</td>\n",
              "      <td>0.00</td>\n",
              "      <td>1.9</td>\n",
              "      <td>0.076</td>\n",
              "      <td>11.0</td>\n",
              "      <td>34.0</td>\n",
              "      <td>0.9978</td>\n",
              "      <td>0.56</td>\n",
              "      <td>9.4</td>\n",
              "      <td>0</td>\n",
              "    </tr>\n",
              "  </tbody>\n",
              "</table>\n",
              "</div>"
            ],
            "text/plain": [
              "   fixed acidity  volatile acidity  citric acid  ...  sulphates  alcohol  quality\n",
              "0            7.4              0.70         0.00  ...       0.56      9.4        0\n",
              "1            7.8              0.88         0.00  ...       0.68      9.8        0\n",
              "2            7.8              0.76         0.04  ...       0.65      9.8        0\n",
              "3           11.2              0.28         0.56  ...       0.58      9.8        1\n",
              "4            7.4              0.70         0.00  ...       0.56      9.4        0\n",
              "\n",
              "[5 rows x 11 columns]"
            ]
          },
          "metadata": {},
          "execution_count": 3
        }
      ]
    },
    {
      "cell_type": "markdown",
      "metadata": {
        "id": "55KW10oHprL8"
      },
      "source": [
        "Missing Values treatment"
      ]
    },
    {
      "cell_type": "code",
      "metadata": {
        "colab": {
          "base_uri": "https://localhost:8080/"
        },
        "id": "d7eaP106pxjp",
        "outputId": "f5869fc8-3fcb-4a02-a773-5d812b3819aa"
      },
      "source": [
        "print(data.isnull().sum())"
      ],
      "execution_count": 4,
      "outputs": [
        {
          "output_type": "stream",
          "name": "stdout",
          "text": [
            "fixed acidity           0\n",
            "volatile acidity        0\n",
            "citric acid             0\n",
            "residual sugar          0\n",
            "chlorides               0\n",
            "free sulfur dioxide     0\n",
            "total sulfur dioxide    0\n",
            "density                 0\n",
            "sulphates               0\n",
            "alcohol                 0\n",
            "quality                 0\n",
            "dtype: int64\n"
          ]
        }
      ]
    },
    {
      "cell_type": "markdown",
      "metadata": {
        "id": "sI2iIW_3p712"
      },
      "source": [
        "Min and Max Values"
      ]
    },
    {
      "cell_type": "code",
      "metadata": {
        "id": "uF7V40T4p_mT"
      },
      "source": [
        "fixed_min = data['fixed acidity'].min()\n",
        "fixed_max = data['fixed acidity'].max()\n",
        "volatile_min = data['volatile acidity'].min()\n",
        "volatile_max = data['volatile acidity'].max()\n",
        "citric_min = data['citric acid'].min()\n",
        "citric_max = data['citric acid'].max()\n",
        "residual_min = data['residual sugar'].min()\n",
        "residual_max = data['residual sugar'].max()\n",
        "chlorides_min = data['chlorides'].min()\n",
        "chlorides_max = data['chlorides'].max()\n",
        "free_min = data['free sulfur dioxide'].min()\n",
        "free_max = data['free sulfur dioxide'].max()\n",
        "total_min = data['total sulfur dioxide'].min()\n",
        "total_max = data['total sulfur dioxide'].max()\n",
        "density_min = data['density'].min()\n",
        "density_max = data['density'].max()\n",
        "sulphates_min = data['sulphates'].min()\n",
        "sulphates_max = data['sulphates'].max()\n",
        "alcohol_min = data['alcohol'].min()\n",
        "alcohol_max = data['alcohol'].max()\n",
        "quality_min = data['quality'].min()\n",
        "quality_max = data['quality'].max()\n"
      ],
      "execution_count": 5,
      "outputs": []
    },
    {
      "cell_type": "markdown",
      "metadata": {
        "id": "tmDmxFo-vtSk"
      },
      "source": [
        "Normalisation"
      ]
    },
    {
      "cell_type": "code",
      "metadata": {
        "id": "GxImcAqRvu38"
      },
      "source": [
        "from sklearn.preprocessing import MinMaxScaler\n",
        "scaler = MinMaxScaler()\n",
        "\n",
        "# Applying scaler() to all the columns except the 'yes-no' and 'dummy' variables\n",
        "num_vars = ['fixed acidity', 'volatile acidity', 'citric acid', 'residual sugar', 'chlorides',\n",
        "            'free sulfur dioxide', 'total sulfur dioxide', 'density', 'sulphates', 'alcohol', 'quality']\n",
        "data[num_vars] = scaler.fit_transform(data[num_vars])"
      ],
      "execution_count": 6,
      "outputs": []
    },
    {
      "cell_type": "markdown",
      "metadata": {
        "id": "F2sL8GHnwW_b"
      },
      "source": [
        "Data Split"
      ]
    },
    {
      "cell_type": "code",
      "metadata": {
        "id": "pwMDkvaWwZ-8"
      },
      "source": [
        "from sklearn.model_selection import train_test_split\n",
        "df_train, df_test = train_test_split(data, train_size = 0.7, test_size = 0.3, random_state = 100)"
      ],
      "execution_count": 7,
      "outputs": []
    },
    {
      "cell_type": "code",
      "metadata": {
        "id": "rGezqxP6wcMx"
      },
      "source": [
        "y_train = df_train.pop('quality')\n",
        "X_train = df_train\n",
        "y_test = df_test.pop('quality')\n",
        "X_test = df_test"
      ],
      "execution_count": 8,
      "outputs": []
    },
    {
      "cell_type": "markdown",
      "metadata": {
        "id": "1GKF1fa2wjtg"
      },
      "source": [
        "Train the Model"
      ]
    },
    {
      "cell_type": "code",
      "metadata": {
        "colab": {
          "base_uri": "https://localhost:8080/"
        },
        "id": "U6HpI_0owlGZ",
        "outputId": "7136cc90-ef4e-403e-dde5-bbbec4d5c6f3"
      },
      "source": [
        "from sklearn.linear_model import LogisticRegression\n",
        "lr_model = LogisticRegression()\n",
        "lr_model.fit(X_train,y_train)"
      ],
      "execution_count": 9,
      "outputs": [
        {
          "output_type": "execute_result",
          "data": {
            "text/plain": [
              "LogisticRegression()"
            ]
          },
          "metadata": {},
          "execution_count": 9
        }
      ]
    },
    {
      "cell_type": "code",
      "metadata": {
        "id": "p8P6nHGywpRW"
      },
      "source": [
        "y_pred_train = lr_model.predict(X_train)\n",
        "y_pred_test = lr_model.predict(X_test)"
      ],
      "execution_count": 10,
      "outputs": []
    },
    {
      "cell_type": "code",
      "metadata": {
        "colab": {
          "base_uri": "https://localhost:8080/"
        },
        "id": "EuZjMZsxwr3g",
        "outputId": "67ae89f5-5800-4158-96b5-644db09c55ac"
      },
      "source": [
        "print(\" Training Accuracy\",lr_model.score(X_train, y_train))\n",
        "print(\" Testing Accuracy\",lr_model.score(X_test, y_test))"
      ],
      "execution_count": 11,
      "outputs": [
        {
          "output_type": "stream",
          "name": "stdout",
          "text": [
            " Training Accuracy 0.7479892761394102\n",
            " Testing Accuracy 0.7354166666666667\n"
          ]
        }
      ]
    },
    {
      "cell_type": "code",
      "metadata": {
        "colab": {
          "base_uri": "https://localhost:8080/"
        },
        "id": "D13WpIlEw0Ni",
        "outputId": "cbf7b037-9874-42d3-e960-7e7c8df1b5d7"
      },
      "source": [
        "from sklearn.metrics import confusion_matrix\n",
        "confusion_matrix(y_test, y_pred_test)"
      ],
      "execution_count": 12,
      "outputs": [
        {
          "output_type": "execute_result",
          "data": {
            "text/plain": [
              "array([[157,  67],\n",
              "       [ 60, 196]])"
            ]
          },
          "metadata": {},
          "execution_count": 12
        }
      ]
    },
    {
      "cell_type": "code",
      "metadata": {
        "colab": {
          "base_uri": "https://localhost:8080/"
        },
        "id": "_0Pbw4X1w3qG",
        "outputId": "38993421-63e4-4e30-a86b-f394b9e2d25f"
      },
      "source": [
        "confusion_matrix(y_train, y_pred_train)"
      ],
      "execution_count": 13,
      "outputs": [
        {
          "output_type": "execute_result",
          "data": {
            "text/plain": [
              "array([[389, 131],\n",
              "       [151, 448]])"
            ]
          },
          "metadata": {},
          "execution_count": 13
        }
      ]
    },
    {
      "cell_type": "markdown",
      "metadata": {
        "id": "mHtnYttgxQrq"
      },
      "source": [
        "Deployment"
      ]
    },
    {
      "cell_type": "code",
      "metadata": {
        "colab": {
          "base_uri": "https://localhost:8080/"
        },
        "id": "9iqvYTOmxR7R",
        "outputId": "47dbdf1e-6685-47f3-fe94-fe3c144f61bc"
      },
      "source": [
        "list_of_columns = data.columns\n",
        "input_data=pd.DataFrame(columns=list_of_columns)\n",
        "input_data.drop(['quality'], axis='columns', inplace=True)\n",
        "\n",
        "\n",
        "input_data.at[0, 'fixed acidity'] = float(input('Enter Fixed Acidity Content '))\n",
        "input_data.at[0, 'volatile acidity'] = float(input('Enter Volatile Acidity Content '))\n",
        "input_data.at[0, 'citric acid'] = float(input('Enter Citric Acid Content '))\n",
        "input_data.at[0, 'residual sugar'] = float(input('Enter residual Sugar Content '))\n",
        "input_data.at[0, 'chlorides'] = float(input('Enter Chlorides Content '))\n",
        "input_data.at[0, 'free sulfur dioxide'] = float(input('Enter Free Sulphur Dioxide Content '))\n",
        "input_data.at[0, 'total sulfur dioxide'] = float(input('Enter total Sulphur Dioxide Content'))\n",
        "input_data.at[0, 'density'] = float(input('Enter Density Content'))\n",
        "input_data.at[0, 'sulphates'] = float(input('Enter Sulphates Content'))\n",
        "input_data.at[0, 'alcohol'] = float(input('Enter Alcohol Content'))"
      ],
      "execution_count": 14,
      "outputs": [
        {
          "name": "stdout",
          "output_type": "stream",
          "text": [
            "Enter Fixed Acidity Content 0.5\n",
            "Enter Volatile Acidity Content 0.98\n",
            "Enter Citric Acid Content 1.2\n",
            "Enter residual Sugar Content .2\n",
            "Enter Chlorides Content 0.321\n",
            "Enter Free Sulphur Dioxide Content 0.3659\n",
            "Enter total Sulphur Dioxide Content0985\n",
            "Enter Density Content1.32\n",
            "Enter Sulphates Content1.65\n",
            "Enter Alcohol Content0.15\n"
          ]
        }
      ]
    },
    {
      "cell_type": "code",
      "metadata": {
        "id": "hlZp2Mv_ylwL"
      },
      "source": [
        "# De-normalisation\n",
        "input_data['fixed acidity']=(input_data['fixed acidity']-fixed_min)/(fixed_max-fixed_min)\n",
        "input_data['volatile acidity']=(input_data['volatile acidity']-volatile_min)/(volatile_max-volatile_min)\n",
        "input_data['citric acid']=(input_data['citric acid']-citric_min)/(citric_max-citric_min)\n",
        "input_data['residual sugar']=(input_data['residual sugar']-residual_min)/(residual_max-residual_min)\n",
        "input_data['chlorides']=(input_data['chlorides']-chlorides_min)/(chlorides_max-chlorides_min)\n",
        "input_data['free sulfur dioxide']=(input_data['free sulfur dioxide']-free_min)/(free_max-free_min)\n",
        "input_data['total sulfur dioxide']=(input_data['total sulfur dioxide']-total_min)/(total_max-total_min)\n",
        "input_data['density']=(input_data['density']-density_min)/(density_max-density_min)\n",
        "input_data['sulphates']=(input_data['sulphates']-sulphates_min)/(sulphates_max-sulphates_min)\n",
        "input_data['alcohol']=(input_data['alcohol']-alcohol_min)/(alcohol_max-alcohol_min)"
      ],
      "execution_count": 15,
      "outputs": []
    },
    {
      "cell_type": "code",
      "metadata": {
        "colab": {
          "base_uri": "https://localhost:8080/"
        },
        "id": "hbg7NxelX1go",
        "outputId": "c62034f1-74de-47f6-894f-6c2ba9f500d7"
      },
      "source": [
        "y_pred = lr_model.predict(input_data)\n",
        "quality = y_pred*(quality_max-quality_min)+quality_min\n",
        "if quality == 1:\n",
        "  print('The wine quality is good..')\n",
        "else:\n",
        "  print('The quality of wine is bad..')"
      ],
      "execution_count": 16,
      "outputs": [
        {
          "output_type": "stream",
          "name": "stdout",
          "text": [
            "The quality of wine is bad..\n"
          ]
        }
      ]
    }
  ]
}